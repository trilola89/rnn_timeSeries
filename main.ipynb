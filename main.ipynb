{
 "cells": [
  {
   "cell_type": "code",
   "execution_count": 1,
   "metadata": {},
   "outputs": [],
   "source": [
    "import numpy as np\n",
    "import pandas as pd\n",
    "# import pandas_datareader as pdr Not working\n",
    "import matplotlib.pyplot as plt\n",
    "import seaborn as sns\n",
    "import datetime as dt\n",
    "\n",
    "from sklearn.preprocessing import MinMaxScaler\n",
    "import tensorflow as tf\n",
    "#layers\n",
    "from tensorflow.keras.layers import Dense, Dropout, LSTM"
   ]
  },
  {
   "cell_type": "code",
   "execution_count": 9,
   "metadata": {},
   "outputs": [
    {
     "data": {
      "text/plain": [
       "array([[0.48660051],\n",
       "       [0.45682382],\n",
       "       [0.44540945],\n",
       "       ...,\n",
       "       [0.02133995],\n",
       "       [0.02059554],\n",
       "       [0.02158809]])"
      ]
     },
     "execution_count": 9,
     "metadata": {},
     "output_type": "execute_result"
    }
   ],
   "source": [
    "#Reading in data and scaling it\n",
    "import yfinance as yf\n",
    "\n",
    "ticker = yf.Ticker(\"AMD\")\n",
    "start_date = dt.datetime(2005,1,1).strftime('%Y-%m-%d')\n",
    "end_date = dt.datetime(2015,1,1).strftime('%Y-%m-%d')\n",
    "\n",
    "\n",
    "data = ticker.history(start=start_date, end=end_date)\n",
    "\n",
    "scaler = MinMaxScaler(feature_range=(0, 1))\n",
    "\n",
    "scaled_data = scaler.fit_transform(data['Close'].values.reshape(-1,1))\n",
    "scaled_data"
   ]
  },
  {
   "cell_type": "code",
   "execution_count": 34,
   "metadata": {},
   "outputs": [
    {
     "name": "stdout",
     "output_type": "stream",
     "text": [
      "(2457, 60)\n",
      "(2457,)\n"
     ]
    },
    {
     "data": {
      "text/plain": [
       "array([[0.48660051, 0.45682382, 0.44540945, ..., 0.33920598, 0.33796528, 0.35756823],\n",
       "       [0.45682382, 0.44540945, 0.44466501, ..., 0.33796528, 0.35756823, 0.35533502],\n",
       "       [0.44540945, 0.44466501, 0.44962781, ..., 0.35756823, 0.35533502, 0.35707199],\n",
       "       ...,\n",
       "       [0.0394541 , 0.03970224, 0.03870968, ..., 0.02158809, 0.02109182, 0.02109182],\n",
       "       [0.03970224, 0.03870968, 0.03672457, ..., 0.02109182, 0.02109182, 0.02133995],\n",
       "       [0.03870968, 0.03672457, 0.03672457, ..., 0.02109182, 0.02133995, 0.02059554]])"
      ]
     },
     "execution_count": 34,
     "metadata": {},
     "output_type": "execute_result"
    }
   ],
   "source": [
    "np.set_printoptions(threshold=3, linewidth=100)\n",
    "\n",
    "timeSteps = 60\n",
    "\n",
    "x_train = []\n",
    "y_train = []\n",
    "\n",
    "for i in range(timeSteps, len(scaled_data)):\n",
    "    x_train.append(scaled_data[i-timeSteps:i, 0])\n",
    "    y_train.append(scaled_data[i, 0])\n",
    "\n",
    "x_train, y_train = np.array(x_train), np.array(y_train)\n",
    "\n",
    "print(x_train.shape)\n",
    "print(y_train.shape)\n",
    "x_train"
   ]
  },
  {
   "cell_type": "code",
   "execution_count": 35,
   "metadata": {},
   "outputs": [
    {
     "name": "stdout",
     "output_type": "stream",
     "text": [
      "(2457, 60, 1)\n",
      "[[[0.48660051]\n",
      "  [0.45682382]\n",
      "  [0.44540945]\n",
      "  ...\n",
      "  [0.33920598]\n",
      "  [0.33796528]\n",
      "  [0.35756823]]\n",
      "\n",
      " [[0.45682382]\n",
      "  [0.44540945]\n",
      "  [0.44466501]\n",
      "  ...\n",
      "  [0.33796528]\n",
      "  [0.35756823]\n",
      "  [0.35533502]]\n",
      "\n",
      " [[0.44540945]\n",
      "  [0.44466501]\n",
      "  [0.44962781]\n",
      "  ...\n",
      "  [0.35756823]\n",
      "  [0.35533502]\n",
      "  [0.35707199]]\n",
      "\n",
      " ...\n",
      "\n",
      " [[0.0394541 ]\n",
      "  [0.03970224]\n",
      "  [0.03870968]\n",
      "  ...\n",
      "  [0.02158809]\n",
      "  [0.02109182]\n",
      "  [0.02109182]]\n",
      "\n",
      " [[0.03970224]\n",
      "  [0.03870968]\n",
      "  [0.03672457]\n",
      "  ...\n",
      "  [0.02109182]\n",
      "  [0.02109182]\n",
      "  [0.02133995]]\n",
      "\n",
      " [[0.03870968]\n",
      "  [0.03672457]\n",
      "  [0.03672457]\n",
      "  ...\n",
      "  [0.02109182]\n",
      "  [0.02133995]\n",
      "  [0.02059554]]]\n"
     ]
    }
   ],
   "source": [
    "#reshape x_train for LSTM\n",
    "x_train_reshaped = x_train.reshape(x_train.shape[0], x_train.shape[1], 1)\n",
    "print(x_train_reshaped.shape)\n",
    "print(x_train_reshaped)"
   ]
  },
  {
   "cell_type": "code",
   "execution_count": null,
   "metadata": {},
   "outputs": [],
   "source": [
    "#Model\n",
    "\n",
    "model = tf.keras.Sequential()"
   ]
  }
 ],
 "metadata": {
  "kernelspec": {
   "display_name": "Python 3",
   "language": "python",
   "name": "python3"
  },
  "language_info": {
   "codemirror_mode": {
    "name": "ipython",
    "version": 3
   },
   "file_extension": ".py",
   "mimetype": "text/x-python",
   "name": "python",
   "nbconvert_exporter": "python",
   "pygments_lexer": "ipython3",
   "version": "3.11.3"
  },
  "orig_nbformat": 4
 },
 "nbformat": 4,
 "nbformat_minor": 2
}
